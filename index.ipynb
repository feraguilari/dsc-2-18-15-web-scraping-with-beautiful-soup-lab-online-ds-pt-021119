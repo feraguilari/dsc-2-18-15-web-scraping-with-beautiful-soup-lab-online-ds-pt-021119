{
 "cells": [
  {
   "cell_type": "markdown",
   "metadata": {},
   "source": [
    "# Web Scraping with Beautiful Soup - Lab"
   ]
  },
  {
   "cell_type": "markdown",
   "metadata": {},
   "source": [
    "## Introduction\n",
    "\n",
    "Now that you've read and seen some docmentation regarding the use of Beautiful Soup, its time to practice and put that to work! In this lab you'll formalize some of our example code into functions and scrape the lyrics from an artist of your choice."
   ]
  },
  {
   "cell_type": "markdown",
   "metadata": {},
   "source": [
    "## Objectives\n",
    "You will be able to:\n",
    "* Scrape Static webpages\n",
    "* Select specific elements from the DOM"
   ]
  },
  {
   "cell_type": "markdown",
   "metadata": {},
   "source": [
    "## Link Scraping\n",
    "\n",
    "Write a function to collect the links to each of the song pages from a given artist page."
   ]
  },
  {
   "cell_type": "code",
   "execution_count": 1,
   "metadata": {},
   "outputs": [
    {
     "data": {
      "text/plain": [
       "[('Harder To Breathe',\n",
       "  '../lyrics/maroon5/hardertobreathe.html',\n",
       "  'album: \"Songs About Jane\" (2002)'),\n",
       " ('This Love',\n",
       "  '../lyrics/maroon5/thislove.html',\n",
       "  'album: \"Songs About Jane\" (2002)'),\n",
       " ('Shiver',\n",
       "  '../lyrics/maroon5/shiver.html',\n",
       "  'album: \"Songs About Jane\" (2002)'),\n",
       " ('She Will Be Loved',\n",
       "  '../lyrics/maroon5/shewillbeloved.html',\n",
       "  'album: \"Songs About Jane\" (2002)'),\n",
       " ('Tangled',\n",
       "  '../lyrics/maroon5/tangled.html',\n",
       "  'album: \"Songs About Jane\" (2002)')]"
      ]
     },
     "execution_count": 1,
     "metadata": {},
     "output_type": "execute_result"
    }
   ],
   "source": [
    "#Starter Code\n",
    "\n",
    "from bs4 import BeautifulSoup\n",
    "import requests\n",
    "\n",
    "url = 'https://www.azlyrics.com/m/maroon5.html'\n",
    "def get_songs_url(url):\n",
    "    url = url #Put the URL of your AZLyrics Artist Page here!\n",
    "\n",
    "    html_page = requests.get(url) #Make a get request to retrieve the page\n",
    "    soup = BeautifulSoup(html_page.content, 'html.parser') #Pass the page contents to beautiful soup for parsing\n",
    "\n",
    "    #The example from our lecture/reading\n",
    "    data = [] #Create a storage container\n",
    "    albums = soup.find_all(\"div\", class_=\"album\")\n",
    "    for album_n in range(len(albums)):\n",
    "    #On the last album, we won't be able to look forward\n",
    "        if album_n == len(albums)-1:\n",
    "            cur_album = albums[album_n]\n",
    "            album_songs = cur_album.findNextSiblings('a')\n",
    "            for song in album_songs:\n",
    "                page = song.get('href')\n",
    "                title = song.text\n",
    "                album = cur_album.text\n",
    "                data.append((title, page, album))\n",
    "        else:\n",
    "            cur_album = albums[album_n]\n",
    "            next_album = albums[album_n+1]\n",
    "            saca = cur_album.findNextSiblings('a') #songs after current album\n",
    "            sbna = next_album.findPreviousSiblings('a') #songs before next album\n",
    "            album_songs = [song for song in saca if song in sbna] #album songs are those listed after the current album but before the next one!\n",
    "            for song in album_songs:\n",
    "                page = song.get('href')\n",
    "                title = song.text\n",
    "                album = cur_album.text\n",
    "                data.append((title, page, album)) \n",
    "    return data\n",
    "get_songs_url(url)[:5]"
   ]
  },
  {
   "cell_type": "markdown",
   "metadata": {},
   "source": [
    "## Text Scraping\n",
    "Write a secondary function that scrapes the lyrics for each song page."
   ]
  },
  {
   "cell_type": "code",
   "execution_count": 2,
   "metadata": {},
   "outputs": [
    {
     "data": {
      "text/plain": [
       "'<!DOCTYPE html>\\n<html lang=\"en\">\\n <head>\\n  <meta charset=\"utf-8\"/>\\n  <meta content=\"IE=edge\" http-equiv=\"X-UA-Compatible\"/>\\n  <meta content=\"width=device-width, initial-scale=1\" name=\"viewport\"/>\\n  <meta content=\"Lyrics to &quot;Sheezus&quot; song by Lily Allen: Been here before, so I\\'m prepared Not gonna lie though, I\\'m kinda scared Lace up my gloves, I\\'m goin...\" name=\"description\"/>\\n  <meta content=\"Sheezus lyrics, Lily Allen Sheezus lyrics, Lily Allen lyrics\" name=\"keywords\"/>\\n  <meta content=\"noarchive\" name=\"robots\"/>\\n  <meta content=\"//www.azlyrics.com/az_logo_tr.png\" property=\"og:image\"/>\\n  <title>\\n   Lily Allen - Sheezus Lyrics | AZLyrics.com\\n  </title>\\n  <link href=\"https://maxcdn.bootstrapcdn.com/bootstrap/3.3.4/css/bootstrap.min.css\" rel=\"stylesheet\"/>\\n  <link href=\"//www.azlyrics.com/bsaz.css\" rel=\"stylesheet\"/>\\n  <!-- HTML5 shim and Respond.js for IE8 support of HTML5 elements and media queries -->\\n  <!--[if lt IE 9]>\\r\\n<script src=\"https://oss.maxcdn.com/html5shiv/3.7.2/h'"
      ]
     },
     "execution_count": 2,
     "metadata": {},
     "output_type": "execute_result"
    }
   ],
   "source": [
    "#Remember to open up the webpage in a browser and control-click/right-click and go to inspect!\n",
    "from bs4 import BeautifulSoup\n",
    "import requests\n",
    "\n",
    "#Example page\n",
    "url = 'https://www.azlyrics.com/lyrics/lilyallen/sheezus.html'\n",
    "\n",
    "\n",
    "html_page = requests.get(url)\n",
    "soup = BeautifulSoup(html_page.content, 'html.parser')\n",
    "soup.prettify()[:1000]"
   ]
  },
  {
   "cell_type": "code",
   "execution_count": 3,
   "metadata": {},
   "outputs": [
    {
     "data": {
      "text/plain": [
       "<div>\n",
       "<!-- Usage of azlyrics.com content by any third-party lyrics provider is prohibited by our licensing agreement. Sorry about that. -->\n",
       "Been here before, so I'm prepared<br/>\n",
       "Not gonna lie though, I'm kinda scared<br/>\n",
       "Lace up my gloves, I'm going in<br/>\n",
       "Don't let my kids watch me when I get in the ring<br/>\n",
       "<br/>\n",
       "I'll take the hits, roll with the punches<br/>\n",
       "I'll get back up, it's not as if I've never done this<br/>\n",
       "But then again, the game is changing<br/>\n",
       "Can't just come back, jump on the mic and do the same thing<br/>\n",
       "<br/>\n",
       "There goes the bell, I know that sound<br/>\n",
       "I guess it's time for me to go another round<br/>\n",
       "Now wish me luck, I'm gonna need it<br/>\n",
       "I'll see you on the other side, if I'm still breathing<br/>\n",
       "<br/>\n",
       "Riri isn't scared of Katy Perry's roaring<br/>\n",
       "Queen B's gone back to the drawing<br/>\n",
       "Lorde smells blood, yeah, she's about to slay you<br/>\n",
       "Kid ain't one to fuck with when she's only on her debut<br/>\n",
       "<br/>\n",
       "We're all watching Gaga, L-O-L like ha ha<br/>\n",
       "Dying for the art, so really she's a martyr<br/>\n",
       "The second best will never cut it for the divas<br/>\n",
       "Give me that crown, bitch, I wanna be Sheezus<br/>\n",
       "<br/>\n",
       "I'm ready for all the comparisons<br/>\n",
       "I think it's dumb and it's embarrassing<br/>\n",
       "I'm switching off, no longer listening<br/>\n",
       "I've had enough of persecution and conditioning<br/>\n",
       "<br/>\n",
       "Maybe it's instinct, we're only animal<br/>\n",
       "Maybe it's healthy, maybe it's rational<br/>\n",
       "It makes me angry, I'm serious<br/>\n",
       "But then again, I'm just about to get my period<br/>\n",
       "<br/>\n",
       "Periods, we all get periods<br/>\n",
       "Every month, yo that's what the theory is<br/>\n",
       "It's human nature, another cycle<br/>\n",
       "Be nice to me, I'll make you one of my disciples<br/>\n",
       "<br/>\n",
       "Riri isn't scared of Katy Perry's roaring<br/>\n",
       "Queen B's going back to the drawing<br/>\n",
       "Lorde smells blood, yeah, she's about to slay you<br/>\n",
       "Kid ain't one to fuck with when she's only on her debut<br/>\n",
       "<br/>\n",
       "We're all watching Gaga, L-O-L like haha<br/>\n",
       "Dying for the art, so really she's a martyr<br/>\n",
       "The second best will never cut it for the divas<br/>\n",
       "Give me that crown, bitch, I wanna be Sheezus<br/>\n",
       "<br/>\n",
       "I am born again, now run along and tell<br/>\n",
       "All of your friends to come and join us<br/>\n",
       "Give yourselves to me, I am your leader<br/>\n",
       "Let me be Sheezus<br/>\n",
       "Let me be Sheezus<br/>\n",
       "<br/>\n",
       "I am born again, now run along and tell<br/>\n",
       "All of your friends to come and join us<br/>\n",
       "Give yourselves to me, I am your leader<br/>\n",
       "Let me be Sheezus\n",
       "</div>"
      ]
     },
     "execution_count": 3,
     "metadata": {},
     "output_type": "execute_result"
    }
   ],
   "source": [
    "divs = soup.findAll('div')\n",
    "divs[21]"
   ]
  },
  {
   "cell_type": "code",
   "execution_count": 4,
   "metadata": {},
   "outputs": [
    {
     "name": "stdout",
     "output_type": "stream",
     "text": [
      "10\n",
      "11\n",
      "14\n",
      "21\n"
     ]
    }
   ],
   "source": [
    "for n, div in enumerate(divs):\n",
    "    if \"Been here before\" in div.text:\n",
    "        print(n)"
   ]
  },
  {
   "cell_type": "code",
   "execution_count": 5,
   "metadata": {},
   "outputs": [],
   "source": [
    "main_page = soup.find('div', {\"class\": \"container main-page\"})\n",
    "main_l2 = main_page.find('div', {\"class\" : \"row\"})\n",
    "main_l3 = main_l2.find('div', {\"class\" : \"col-xs-12 col-lg-8 text-center\"})"
   ]
  },
  {
   "cell_type": "code",
   "execution_count": 6,
   "metadata": {},
   "outputs": [
    {
     "data": {
      "text/plain": [
       "\"\\n\\r\\nBeen here before, so I'm prepared\\nNot gonna lie though, I'm kinda scared\\nLace up my gloves, I'm going in\\nDon't let my kids watch me when I get in the ring\\n\\nI'll take the hits, roll with the punches\\nI'll get back up, it's not as if I've never done this\\nBut then again, the game is changing\\nCan't just come back, jump on the mic and do the same thing\\n\\nThere goes the bell, I know that sound\\nI guess it's time for me to go another round\\nNow wish me luck, I'm gonna need it\\nI'll see you on the other side, if I'm still breathing\\n\\nRiri isn't scared of Katy Perry's roaring\\nQueen B's gone back to the drawing\\nLorde smells blood, yeah, she's about to slay you\\nKid ain't one to fuck with when she's only on her debut\\n\\nWe're all watching Gaga, L-O-L like ha ha\\nDying for the art, so really she's a martyr\\nThe second best will never cut it for the divas\\nGive me that crown, bitch, I wanna be Sheezus\\n\\nI'm ready for all the comparisons\\nI think it's dumb and it's embarrassing\\nI'm switching off, no longer listening\\nI've had enough of persecution and conditioning\\n\\nMaybe it's instinct, we're only animal\\nMaybe it's healthy, maybe it's rational\\nIt makes me angry, I'm serious\\nBut then again, I'm just about to get my period\\n\\nPeriods, we all get periods\\nEvery month, yo that's what the theory is\\nIt's human nature, another cycle\\nBe nice to me, I'll make you one of my disciples\\n\\nRiri isn't scared of Katy Perry's roaring\\nQueen B's going back to the drawing\\nLorde smells blood, yeah, she's about to slay you\\nKid ain't one to fuck with when she's only on her debut\\n\\nWe're all watching Gaga, L-O-L like haha\\nDying for the art, so really she's a martyr\\nThe second best will never cut it for the divas\\nGive me that crown, bitch, I wanna be Sheezus\\n\\nI am born again, now run along and tell\\nAll of your friends to come and join us\\nGive yourselves to me, I am your leader\\nLet me be Sheezus\\nLet me be Sheezus\\n\\nI am born again, now run along and tell\\nAll of your friends to come and join us\\nGive yourselves to me, I am your leader\\nLet me be Sheezus\\n\""
      ]
     },
     "execution_count": 6,
     "metadata": {},
     "output_type": "execute_result"
    }
   ],
   "source": [
    "lyrics = main_l3.findAll('div')[6].text\n",
    "lyrics"
   ]
  },
  {
   "cell_type": "code",
   "execution_count": 7,
   "metadata": {},
   "outputs": [],
   "source": [
    "def scrape_lyrics(song_page_url):\n",
    "    html_page = requests.get(song_page_url)\n",
    "    soup = BeautifulSoup(html_page.content, 'html.parser')\n",
    "    main_page = soup.find('div', {\"class\": \"container main-page\"})\n",
    "    main_l2 = main_page.find('div', {\"class\" : \"row\"})\n",
    "    main_l3 = main_l2.find('div', {\"class\" : \"col-xs-12 col-lg-8 text-center\"})\n",
    "    lyrics = main_l3.findAll('div')[6].text\n",
    "    return lyrics"
   ]
  },
  {
   "cell_type": "markdown",
   "metadata": {},
   "source": [
    "## Synthesizing\n",
    "Create a script using your two functions above to scrape all of the song lyrics for a given artist.\n"
   ]
  },
  {
   "cell_type": "code",
   "execution_count": 10,
   "metadata": {},
   "outputs": [
    {
     "name": "stdout",
     "output_type": "stream",
     "text": [
      "111\n",
      "('Harder To Breathe', '../lyrics/maroon5/hardertobreathe.html', 'album: \"Songs About Jane\" (2002)')\n"
     ]
    }
   ],
   "source": [
    "#Use this block for your code!\n",
    "songs = get_songs_url('https://www.azlyrics.com/m/maroon5.html')\n",
    "print(len(songs))\n",
    "print(songs[0])"
   ]
  },
  {
   "cell_type": "code",
   "execution_count": 11,
   "metadata": {},
   "outputs": [],
   "source": [
    "songs = get_songs_url('https://www.azlyrics.com/m/maroon5.html')\n",
    "url_base = 'https://www.azlyrics.com'\n",
    "lyrics = []\n",
    "for song in songs:\n",
    "    try:\n",
    "        suffix = song[1].replace('..','')\n",
    "        url = url_base + suffix\n",
    "        lyric = scrape_lyrics(url)\n",
    "        lyrics.append(lyric)\n",
    "    except:\n",
    "        lyrics.append('N/A')"
   ]
  },
  {
   "cell_type": "code",
   "execution_count": 12,
   "metadata": {},
   "outputs": [
    {
     "name": "stdout",
     "output_type": "stream",
     "text": [
      "111 111\n"
     ]
    }
   ],
   "source": [
    "print(len(songs), len(lyrics))"
   ]
  },
  {
   "cell_type": "code",
   "execution_count": 13,
   "metadata": {},
   "outputs": [
    {
     "data": {
      "text/html": [
       "<div>\n",
       "<style scoped>\n",
       "    .dataframe tbody tr th:only-of-type {\n",
       "        vertical-align: middle;\n",
       "    }\n",
       "\n",
       "    .dataframe tbody tr th {\n",
       "        vertical-align: top;\n",
       "    }\n",
       "\n",
       "    .dataframe thead th {\n",
       "        text-align: right;\n",
       "    }\n",
       "</style>\n",
       "<table border=\"1\" class=\"dataframe\">\n",
       "  <thead>\n",
       "    <tr style=\"text-align: right;\">\n",
       "      <th></th>\n",
       "      <th>0</th>\n",
       "      <th>1</th>\n",
       "    </tr>\n",
       "  </thead>\n",
       "  <tbody>\n",
       "    <tr>\n",
       "      <th>0</th>\n",
       "      <td>(Harder To Breathe, ../lyrics/maroon5/harderto...</td>\n",
       "      <td>\\n\\r\\nHow dare you say that my behaviour's una...</td>\n",
       "    </tr>\n",
       "    <tr>\n",
       "      <th>1</th>\n",
       "      <td>(This Love, ../lyrics/maroon5/thislove.html, a...</td>\n",
       "      <td>\\n\\r\\nI was so high I did not recognize\\nThe f...</td>\n",
       "    </tr>\n",
       "    <tr>\n",
       "      <th>2</th>\n",
       "      <td>(Shiver, ../lyrics/maroon5/shiver.html, album:...</td>\n",
       "      <td>\\n\\r\\nYou build me up\\r\\nYou knock me down\\r\\n...</td>\n",
       "    </tr>\n",
       "    <tr>\n",
       "      <th>3</th>\n",
       "      <td>(She Will Be Loved, ../lyrics/maroon5/shewillb...</td>\n",
       "      <td>\\n\\r\\nBeauty queen of only eighteen\\nShe had s...</td>\n",
       "    </tr>\n",
       "    <tr>\n",
       "      <th>4</th>\n",
       "      <td>(Tangled, ../lyrics/maroon5/tangled.html, albu...</td>\n",
       "      <td>\\n\\r\\nI'm full of regret\\nFor all things that ...</td>\n",
       "    </tr>\n",
       "  </tbody>\n",
       "</table>\n",
       "</div>"
      ],
      "text/plain": [
       "                                                   0  \\\n",
       "0  (Harder To Breathe, ../lyrics/maroon5/harderto...   \n",
       "1  (This Love, ../lyrics/maroon5/thislove.html, a...   \n",
       "2  (Shiver, ../lyrics/maroon5/shiver.html, album:...   \n",
       "3  (She Will Be Loved, ../lyrics/maroon5/shewillb...   \n",
       "4  (Tangled, ../lyrics/maroon5/tangled.html, albu...   \n",
       "\n",
       "                                                   1  \n",
       "0  \\n\\r\\nHow dare you say that my behaviour's una...  \n",
       "1  \\n\\r\\nI was so high I did not recognize\\nThe f...  \n",
       "2  \\n\\r\\nYou build me up\\r\\nYou knock me down\\r\\n...  \n",
       "3  \\n\\r\\nBeauty queen of only eighteen\\nShe had s...  \n",
       "4  \\n\\r\\nI'm full of regret\\nFor all things that ...  "
      ]
     },
     "execution_count": 13,
     "metadata": {},
     "output_type": "execute_result"
    }
   ],
   "source": [
    "import pandas as pd\n",
    "df = pd.DataFrame(list(zip(songs,lyrics)))\n",
    "df.head()"
   ]
  },
  {
   "cell_type": "code",
   "execution_count": 14,
   "metadata": {},
   "outputs": [
    {
     "data": {
      "text/html": [
       "<div>\n",
       "<style scoped>\n",
       "    .dataframe tbody tr th:only-of-type {\n",
       "        vertical-align: middle;\n",
       "    }\n",
       "\n",
       "    .dataframe tbody tr th {\n",
       "        vertical-align: top;\n",
       "    }\n",
       "\n",
       "    .dataframe thead th {\n",
       "        text-align: right;\n",
       "    }\n",
       "</style>\n",
       "<table border=\"1\" class=\"dataframe\">\n",
       "  <thead>\n",
       "    <tr style=\"text-align: right;\">\n",
       "      <th></th>\n",
       "      <th>0</th>\n",
       "      <th>Lyrics</th>\n",
       "      <th>Song_Name</th>\n",
       "      <th>Song_URL_SFFX</th>\n",
       "      <th>Album_Name</th>\n",
       "    </tr>\n",
       "  </thead>\n",
       "  <tbody>\n",
       "    <tr>\n",
       "      <th>0</th>\n",
       "      <td>(Harder To Breathe, ../lyrics/maroon5/harderto...</td>\n",
       "      <td>\\n\\r\\nHow dare you say that my behaviour's una...</td>\n",
       "      <td>Harder To Breathe</td>\n",
       "      <td>../lyrics/maroon5/hardertobreathe.html</td>\n",
       "      <td>album: \"Songs About Jane\" (2002)</td>\n",
       "    </tr>\n",
       "    <tr>\n",
       "      <th>1</th>\n",
       "      <td>(This Love, ../lyrics/maroon5/thislove.html, a...</td>\n",
       "      <td>\\n\\r\\nI was so high I did not recognize\\nThe f...</td>\n",
       "      <td>This Love</td>\n",
       "      <td>../lyrics/maroon5/thislove.html</td>\n",
       "      <td>album: \"Songs About Jane\" (2002)</td>\n",
       "    </tr>\n",
       "    <tr>\n",
       "      <th>2</th>\n",
       "      <td>(Shiver, ../lyrics/maroon5/shiver.html, album:...</td>\n",
       "      <td>\\n\\r\\nYou build me up\\r\\nYou knock me down\\r\\n...</td>\n",
       "      <td>Shiver</td>\n",
       "      <td>../lyrics/maroon5/shiver.html</td>\n",
       "      <td>album: \"Songs About Jane\" (2002)</td>\n",
       "    </tr>\n",
       "    <tr>\n",
       "      <th>3</th>\n",
       "      <td>(She Will Be Loved, ../lyrics/maroon5/shewillb...</td>\n",
       "      <td>\\n\\r\\nBeauty queen of only eighteen\\nShe had s...</td>\n",
       "      <td>She Will Be Loved</td>\n",
       "      <td>../lyrics/maroon5/shewillbeloved.html</td>\n",
       "      <td>album: \"Songs About Jane\" (2002)</td>\n",
       "    </tr>\n",
       "    <tr>\n",
       "      <th>4</th>\n",
       "      <td>(Tangled, ../lyrics/maroon5/tangled.html, albu...</td>\n",
       "      <td>\\n\\r\\nI'm full of regret\\nFor all things that ...</td>\n",
       "      <td>Tangled</td>\n",
       "      <td>../lyrics/maroon5/tangled.html</td>\n",
       "      <td>album: \"Songs About Jane\" (2002)</td>\n",
       "    </tr>\n",
       "  </tbody>\n",
       "</table>\n",
       "</div>"
      ],
      "text/plain": [
       "                                                   0  \\\n",
       "0  (Harder To Breathe, ../lyrics/maroon5/harderto...   \n",
       "1  (This Love, ../lyrics/maroon5/thislove.html, a...   \n",
       "2  (Shiver, ../lyrics/maroon5/shiver.html, album:...   \n",
       "3  (She Will Be Loved, ../lyrics/maroon5/shewillb...   \n",
       "4  (Tangled, ../lyrics/maroon5/tangled.html, albu...   \n",
       "\n",
       "                                              Lyrics          Song_Name  \\\n",
       "0  \\n\\r\\nHow dare you say that my behaviour's una...  Harder To Breathe   \n",
       "1  \\n\\r\\nI was so high I did not recognize\\nThe f...          This Love   \n",
       "2  \\n\\r\\nYou build me up\\r\\nYou knock me down\\r\\n...             Shiver   \n",
       "3  \\n\\r\\nBeauty queen of only eighteen\\nShe had s...  She Will Be Loved   \n",
       "4  \\n\\r\\nI'm full of regret\\nFor all things that ...            Tangled   \n",
       "\n",
       "                            Song_URL_SFFX                        Album_Name  \n",
       "0  ../lyrics/maroon5/hardertobreathe.html  album: \"Songs About Jane\" (2002)  \n",
       "1         ../lyrics/maroon5/thislove.html  album: \"Songs About Jane\" (2002)  \n",
       "2           ../lyrics/maroon5/shiver.html  album: \"Songs About Jane\" (2002)  \n",
       "3   ../lyrics/maroon5/shewillbeloved.html  album: \"Songs About Jane\" (2002)  \n",
       "4          ../lyrics/maroon5/tangled.html  album: \"Songs About Jane\" (2002)  "
      ]
     },
     "execution_count": 14,
     "metadata": {},
     "output_type": "execute_result"
    }
   ],
   "source": [
    "df['Song_Name'] = df[0].map(lambda x: x[0])\n",
    "df['Song_URL_SFFX'] = df[0].map(lambda x: x[1])\n",
    "df['Album_Name'] = df[0].map(lambda x: x[2])\n",
    "df = df.rename(columns={1:'Lyrics'})\n",
    "df.head()"
   ]
  },
  {
   "cell_type": "markdown",
   "metadata": {},
   "source": [
    "## Visualizing\n",
    "Generate two bar graphs to compare lyrical changes for the artist of your chose. For example, the two bar charts could compare the lyrics for two different songs or two different albums."
   ]
  },
  {
   "cell_type": "code",
   "execution_count": 15,
   "metadata": {},
   "outputs": [],
   "source": [
    "#Use this block for your code!\n",
    "import matplotlib.pyplot as plt\n",
    "import seaborn as sns\n",
    "%matplotlib inline\n",
    "sns.set_style('darkgrid')"
   ]
  },
  {
   "cell_type": "code",
   "execution_count": 16,
   "metadata": {},
   "outputs": [
    {
     "data": {
      "text/plain": [
       "to        15\n",
       "there     14\n",
       "harder    14\n",
       "I         13\n",
       "you       12\n",
       "and       12\n",
       "a          9\n",
       "'cause     8\n",
       "Is         8\n",
       "it's       8\n",
       "dtype: int64"
      ]
     },
     "execution_count": 16,
     "metadata": {},
     "output_type": "execute_result"
    }
   ],
   "source": [
    "pd.Series(df.Lyrics.iloc[0].split()).value_counts()[:10]"
   ]
  },
  {
   "cell_type": "code",
   "execution_count": 17,
   "metadata": {},
   "outputs": [
    {
     "data": {
      "text/plain": [
       "Text(0.5, 1.0, 'Top 10 Lyrics for This Love')"
      ]
     },
     "execution_count": 17,
     "metadata": {},
     "output_type": "execute_result"
    },
    {
     "data": {
      "image/png": "[encoded data removed]",
      "text/plain": [
       "<Figure size 864x576 with 2 Axes>"
      ]
     },
     "metadata": {
      "needs_background": "light"
     },
     "output_type": "display_data"
    }
   ],
   "source": [
    "fig, axes = plt.subplots(1,2, figsize=(12,8))\n",
    "#Get top 10 words\n",
    "top10 = pd.Series(df.Lyrics.iloc[0].split()).value_counts()[:10]\n",
    "#Plot as bar graph\n",
    "top10.plot(ax=axes[0], kind='barh')\n",
    "#Add Subplot Title\n",
    "axes[0].set_title('Top 10 Lyrics for {}'.format(df['Song_Name'].iloc[0]))\n",
    "#Repeat\n",
    "#Get top 10 words\n",
    "top10 = pd.Series(df.Lyrics.iloc[1].split()).value_counts()[:10]\n",
    "#Plot as bar graph\n",
    "top10.plot(ax=axes[1], kind='barh')\n",
    "#Add Subplot Title\n",
    "axes[1].set_title('Top 10 Lyrics for {}'.format(df['Song_Name'].iloc[1]))"
   ]
  },
  {
   "cell_type": "markdown",
   "metadata": {},
   "source": [
    "## Level - Up\n",
    "\n",
    "Think about how you structured the data from your web scraper. Did you scrape the entire song lyrics verbatim? Did you simply store the words and their frequency counts, or did you do something else entirely? List out a few different options for how you could have stored this data. What are advantages and disadvantages of each? Be specific and think about what sort of analyses each representation would lend itself to."
   ]
  },
  {
   "cell_type": "code",
   "execution_count": null,
   "metadata": {},
   "outputs": [],
   "source": [
    "#Use this block for your code!"
   ]
  },
  {
   "cell_type": "markdown",
   "metadata": {},
   "source": [
    "## Summary"
   ]
  },
  {
   "cell_type": "markdown",
   "metadata": {},
   "source": [
    "Congratulations! You've now practiced your Beautiful Soup knowledge!"
   ]
  }
 ],
 "metadata": {
  "kernelspec": {
   "display_name": "learn-env",
   "language": "python",
   "name": "learn-env"
  },
  "language_info": {
   "codemirror_mode": {
    "name": "ipython",
    "version": 3
   },
   "file_extension": ".py",
   "mimetype": "text/x-python",
   "name": "python",
   "nbconvert_exporter": "python",
   "pygments_lexer": "ipython3",
   "version": "3.6.6"
  }
 },
 "nbformat": 4,
 "nbformat_minor": 2
}
